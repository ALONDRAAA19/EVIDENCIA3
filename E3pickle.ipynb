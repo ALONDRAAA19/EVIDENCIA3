{
  "cells": [
    {
      "cell_type": "code",
      "execution_count": 2,
      "metadata": {
        "colab": {
          "base_uri": "https://localhost:8080/"
        },
        "id": "CY9G6juuVtiY",
        "outputId": "944437eb-22ca-464e-a2ae-e33155319e6c"
      },
      "outputs": [
        {
          "name": "stdout",
          "output_type": "stream",
          "text": [
            "Objeto serializado y guardado en archivos_pickle/circulo.pickle\n",
            "Objeto cargado desde archivos_pickle/circulo.pickle\n",
            "\n",
            "Datos del círculo recuperado:\n",
            "Radio: 8\n"
          ]
        }
      ],
      "source": [
        "import pickle\n",
        "import os\n",
        "\n",
        "# Definir una clase simple para el objeto que queremos serializar\n",
        "class Circulo:\n",
        "    def __init__(self, radio):\n",
        "        self.radio = radio\n",
        "\n",
        "# Función para serializar y guardar en un archivo pickle\n",
        "def serializar_y_guardar(objeto, circulo_pickle):\n",
        "    with open(circulo_pickle, 'wb') as archivo:\n",
        "        pickle.dump(objeto, archivo)\n",
        "    print(f\"Objeto serializado y guardado en {circulo_pickle}\")\n",
        "\n",
        "# Función para cargar desde un archivo pickle y deserializar\n",
        "def cargar_desde_archivo_pickle(circulo_pickle):\n",
        "    with open(circulo_pickle, 'rb') as archivo:\n",
        "        objeto_cargado = pickle.load(archivo)\n",
        "    print(f\"Objeto cargado desde {circulo_pickle}\")\n",
        "    return objeto_cargado\n",
        "\n",
        "# Crear una instancia de la clase Circulo\n",
        "circulo_original = Circulo(radio=8)\n",
        "\n",
        "# Directorio para almacenar el archivo pickle\n",
        "directorio = \"archivos_pickle\"\n",
        "circulo_pickle_1 = os.path.join(directorio, \"circulo.pickle\")\n",
        "\n",
        "# Crear el directorio si no existe\n",
        "if not os.path.exists(directorio):\n",
        "    os.makedirs(directorio)\n",
        "\n",
        "# Serializar y guardar el objeto\n",
        "serializar_y_guardar(circulo_original, circulo_pickle_1)\n",
        "\n",
        "# Cargar desde el archivo pickle y deserializar\n",
        "circulo_recuperado = cargar_desde_archivo_pickle(circulo_pickle_1)\n",
        "\n",
        "# Verificar que la recuperación fue exitosa\n",
        "print(f\"\\nDatos del círculo recuperado:\\nRadio: {circulo_recuperado.radio}\")"
      ]
    }
  ],
  "metadata": {
    "colab": {
      "provenance": []
    },
    "kernelspec": {
      "display_name": "Python 3",
      "name": "python3"
    },
    "language_info": {
      "name": "python"
    }
  },
  "nbformat": 4,
  "nbformat_minor": 0
}
